{
 "cells": [
  {
   "cell_type": "markdown",
   "id": "07904993",
   "metadata": {},
   "source": [
    "## Code Set 6 "
   ]
  },
  {
   "cell_type": "markdown",
   "id": "801c902b",
   "metadata": {},
   "source": [
    "## Problem 1- Algorithm Workbench \n",
    "#We are writing a program that opens an output file with the file name my_name.txt, then will have me write my name to the file, then will allow me to close the file. "
   ]
  },
  {
   "cell_type": "code",
   "execution_count": 13,
   "id": "d59c907d",
   "metadata": {},
   "outputs": [],
   "source": [
    "#Need to open the file to write \n",
    "w = open(\"my_name.txt\",\"w\")\n",
    "         #Write my name now , using write \n",
    "w.write('Alyssa\\n')\n",
    "#Close file \n",
    "w.close()"
   ]
  },
  {
   "cell_type": "markdown",
   "id": "d043709b",
   "metadata": {},
   "source": [
    "## Problem 1- Programming exercises- File Display \n",
    "##We have to assume there is a file named numbers.txt contains a series of integers and we need to write a program displaying all the numbers on it."
   ]
  },
  {
   "cell_type": "code",
   "execution_count": 8,
   "id": "a5264640",
   "metadata": {},
   "outputs": [],
   "source": [
    "w = open(\"my_name.txt\",\"w\")\n",
    "w.write('Alyssa')\n",
    "w.close()"
   ]
  },
  {
   "cell_type": "markdown",
   "id": "d0fd60c3",
   "metadata": {},
   "source": [
    "## Problem 6 "
   ]
  },
  {
   "cell_type": "code",
   "execution_count": 16,
   "id": "2d4c0c10",
   "metadata": {},
   "outputs": [
    {
     "ename": "SyntaxError",
     "evalue": "unterminated string literal (detected at line 6) (671607886.py, line 6)",
     "output_type": "error",
     "traceback": [
      "\u001b[0;36m  Cell \u001b[0;32mIn[16], line 6\u001b[0;36m\u001b[0m\n\u001b[0;31m    while line !=\":\u001b[0m\n\u001b[0m                 ^\u001b[0m\n\u001b[0;31mSyntaxError\u001b[0m\u001b[0;31m:\u001b[0m unterminated string literal (detected at line 6)\n"
     ]
    }
   ],
   "source": [
    "def main():\n",
    "    av_nums = open('numbers.txt','r')\n",
    "total = 0\n",
    "numberoflines=0\n",
    "lines=av_nums.readline()\n",
    "while line !=\":\n",
    "numberoflines+=1\n",
    "total+=int(line)\n",
    "line=av_nums.readline()\n",
    "\n",
    "average=total/numberoflines\n",
    "print(average)\n",
    "\n",
    "ave_nums.close()\n",
    "main()"
   ]
  },
  {
   "cell_type": "code",
   "execution_count": null,
   "id": "9cef4c16",
   "metadata": {},
   "outputs": [],
   "source": []
  }
 ],
 "metadata": {
  "kernelspec": {
   "display_name": "Python 3 (ipykernel)",
   "language": "python",
   "name": "python3"
  },
  "language_info": {
   "codemirror_mode": {
    "name": "ipython",
    "version": 3
   },
   "file_extension": ".py",
   "mimetype": "text/x-python",
   "name": "python",
   "nbconvert_exporter": "python",
   "pygments_lexer": "ipython3",
   "version": "3.10.9"
  }
 },
 "nbformat": 4,
 "nbformat_minor": 5
}
