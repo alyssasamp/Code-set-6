{
 "cells": [
  {
   "cell_type": "markdown",
   "id": "07904993",
   "metadata": {},
   "source": [
    "## Code Set 6 "
   ]
  },
  {
   "cell_type": "markdown",
   "id": "801c902b",
   "metadata": {},
   "source": [
    "## Problem 1- Algorithm Workbench \n",
    "#We are writing a program that opens an output file with the file name my_name.txt, then will have me write my name to the file, then will allow me to close the file. "
   ]
  },
  {
   "cell_type": "code",
   "execution_count": 37,
   "id": "d59c907d",
   "metadata": {},
   "outputs": [],
   "source": [
    "#Need to open the file to write \n",
    "w = open(\"my_name.txt\",\"w\")\n",
    "         #Write my name now , using write \n",
    "w.write('Alyssa\\n')\n",
    "#Close file \n",
    "w.close()"
   ]
  },
  {
   "cell_type": "markdown",
   "id": "d043709b",
   "metadata": {},
   "source": [
    "## Problem 1- Programming exercises- File Display \n",
    "##We have to assume there is a file named numbers.txt contains a series of integers and we need to write a program displaying all the numbers on it."
   ]
  },
  {
   "cell_type": "code",
   "execution_count": null,
   "id": "a5264640",
   "metadata": {},
   "outputs": [],
   "source": []
  }
 ],
 "metadata": {
  "kernelspec": {
   "display_name": "Python 3 (ipykernel)",
   "language": "python",
   "name": "python3"
  },
  "language_info": {
   "codemirror_mode": {
    "name": "ipython",
    "version": 3
   },
   "file_extension": ".py",
   "mimetype": "text/x-python",
   "name": "python",
   "nbconvert_exporter": "python",
   "pygments_lexer": "ipython3",
   "version": "3.10.9"
  }
 },
 "nbformat": 4,
 "nbformat_minor": 5
}
